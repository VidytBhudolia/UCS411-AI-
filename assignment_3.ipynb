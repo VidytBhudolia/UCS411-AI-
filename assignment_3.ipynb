{
 "cells": [
  {
   "cell_type": "code",
   "execution_count": 1,
   "id": "199ef9b9",
   "metadata": {},
   "outputs": [
    {
     "name": "stdout",
     "output_type": "stream",
     "text": [
      "Visiting: [['C'], ['B'], ['A']]\n",
      "Goal reached: [['C'], ['B'], ['A']]\n"
     ]
    },
    {
     "data": {
      "text/plain": [
       "True"
      ]
     },
     "execution_count": 1,
     "metadata": {},
     "output_type": "execute_result"
    }
   ],
   "source": [
    "# Q1: DFS for Blocks World\n",
    "def dfs(start, goal, visited=None):\n",
    "    if visited is None:\n",
    "        visited = set()\n",
    "\n",
    "    print(\"Visiting:\", start)\n",
    "    if start == goal:\n",
    "        print(\"Goal reached:\", start)\n",
    "        return True\n",
    "\n",
    "    visited.add(tuple(map(tuple, start)))\n",
    "\n",
    "    moves = get_moves(start)\n",
    "    for move in moves:\n",
    "        state_tuple = tuple(map(tuple, move))\n",
    "        if state_tuple not in visited:\n",
    "            if dfs(move, goal, visited):\n",
    "                return True\n",
    "    return False\n",
    "\n",
    "def get_moves(state):\n",
    "    # Dummy for demonstration, define real move generation logic\n",
    "    return []  # Replace with logic to move blocks\n",
    "\n",
    "initial = [['C'], ['B'], ['A']]\n",
    "goal = [['C'], ['B'], ['A']]\n",
    "dfs(initial, goal)\n"
   ]
  },
  {
   "cell_type": "code",
   "execution_count": 2,
   "id": "95b7c24e",
   "metadata": {},
   "outputs": [
    {
     "name": "stdout",
     "output_type": "stream",
     "text": [
      "Visiting: [['C'], ['B'], ['A']]\n",
      "Goal reached: [['C'], ['B'], ['A']]\n"
     ]
    },
    {
     "data": {
      "text/plain": [
       "True"
      ]
     },
     "execution_count": 2,
     "metadata": {},
     "output_type": "execute_result"
    }
   ],
   "source": [
    "# Q2: BFS for Blocks World\n",
    "from collections import deque\n",
    "\n",
    "def bfs(start, goal):\n",
    "    visited = set()\n",
    "    queue = deque([start])\n",
    "\n",
    "    while queue:\n",
    "        state = queue.popleft()\n",
    "        print(\"Visiting:\", state)\n",
    "        if state == goal:\n",
    "            print(\"Goal reached:\", state)\n",
    "            return True\n",
    "        visited.add(tuple(map(tuple, state)))\n",
    "\n",
    "        for move in get_moves(state):\n",
    "            state_tuple = tuple(map(tuple, move))\n",
    "            if state_tuple not in visited:\n",
    "                queue.append(move)\n",
    "    return False\n",
    "\n",
    "initial = [['C'], ['B'], ['A']]\n",
    "goal = [['C'], ['B'], ['A']]\n",
    "bfs(initial, goal)\n"
   ]
  },
  {
   "cell_type": "code",
   "execution_count": 3,
   "id": "d48ee248",
   "metadata": {},
   "outputs": [
    {
     "name": "stdout",
     "output_type": "stream",
     "text": [
      "At depth 1: [['C'], ['A'], ['B']]\n",
      "Goal NOT found at depth 1 => Incomplete\n"
     ]
    }
   ],
   "source": [
    "# Q3: DLS with D=1\n",
    "def dls(state, goal, depth):\n",
    "    print(f\"At depth {depth}: {state}\")\n",
    "    if state == goal:\n",
    "        print(\"Goal reached.\")\n",
    "        return True\n",
    "    if depth == 0:\n",
    "        return False\n",
    "\n",
    "    for move in get_moves(state):\n",
    "        if dls(move, goal, depth - 1):\n",
    "            return True\n",
    "    return False\n",
    "\n",
    "initial = [['C'], ['A'], ['B']]\n",
    "goal = [['C'], ['B'], ['A']]\n",
    "found = dls(initial, goal, 1)\n",
    "\n",
    "if found:\n",
    "    print(\"Goal found at depth 1\")\n",
    "else:\n",
    "    print(\"Goal NOT found at depth 1 => Incomplete\")\n"
   ]
  },
  {
   "cell_type": "code",
   "execution_count": 4,
   "id": "6eb5ef13",
   "metadata": {},
   "outputs": [
    {
     "name": "stdout",
     "output_type": "stream",
     "text": [
      "Trying depth: 0\n",
      "At depth 0: [['C'], ['B'], ['A']]\n",
      "Goal reached.\n",
      "Goal found at depth: 0\n"
     ]
    }
   ],
   "source": [
    "# Q4: IDS to find depth\n",
    "def ids(start, goal, max_depth=10):\n",
    "    for d in range(max_depth):\n",
    "        print(f\"Trying depth: {d}\")\n",
    "        if dls(start, goal, d):\n",
    "            print(f\"Goal found at depth: {d}\")\n",
    "            return d\n",
    "    return -1\n",
    "\n",
    "initial = [['C'], ['B'], ['A']]\n",
    "goal = [['C'], ['B'], ['A']]\n",
    "depth = ids(initial, goal)\n"
   ]
  },
  {
   "cell_type": "code",
   "execution_count": 5,
   "id": "41cb3576",
   "metadata": {},
   "outputs": [
    {
     "name": "stdout",
     "output_type": "stream",
     "text": [
      "Visiting: S with cost: 0\n",
      "Visiting: A with cost: 1\n",
      "Visiting: B with cost: 5\n",
      "Visiting: G with cost: 10\n",
      "Goal reached with total cost: 10\n"
     ]
    }
   ],
   "source": [
    "# Q5: UCS with priority queue\n",
    "import heapq\n",
    "\n",
    "graph = {\n",
    "    'S': [('A', 1), ('B', 5), ('C', 15)],\n",
    "    'A': [('G', 10)],\n",
    "    'B': [('G', 5)],\n",
    "    'C': [('G', 5)],\n",
    "    'G': []\n",
    "}\n",
    "\n",
    "def ucs(start, goal):\n",
    "    pq = [(0, start)]\n",
    "    visited = set()\n",
    "\n",
    "    while pq:\n",
    "        cost, node = heapq.heappop(pq)\n",
    "        if node in visited:\n",
    "            continue\n",
    "        visited.add(node)\n",
    "        print(f\"Visiting: {node} with cost: {cost}\")\n",
    "        if node == goal:\n",
    "            print(f\"Goal reached with total cost: {cost}\")\n",
    "            return\n",
    "        for neighbor, edge_cost in graph.get(node, []):\n",
    "            heapq.heappush(pq, (cost + edge_cost, neighbor))\n",
    "\n",
    "ucs('S', 'G')\n"
   ]
  },
  {
   "cell_type": "code",
   "execution_count": null,
   "id": "a136daed",
   "metadata": {},
   "outputs": [],
   "source": []
  }
 ],
 "metadata": {
  "kernelspec": {
   "display_name": "Python 3",
   "language": "python",
   "name": "python3"
  },
  "language_info": {
   "codemirror_mode": {
    "name": "ipython",
    "version": 3
   },
   "file_extension": ".py",
   "mimetype": "text/x-python",
   "name": "python",
   "nbconvert_exporter": "python",
   "pygments_lexer": "ipython3",
   "version": "3.10.15"
  }
 },
 "nbformat": 4,
 "nbformat_minor": 5
}
