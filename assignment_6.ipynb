{
 "cells": [
  {
   "cell_type": "code",
   "execution_count": 1,
   "id": "a05a5220",
   "metadata": {},
   "outputs": [
    {
     "name": "stdout",
     "output_type": "stream",
     "text": [
      "Prediction (5,8,10): [48000.]\n",
      "Prediction (8,7,6): [53666.66666667]\n"
     ]
    }
   ],
   "source": [
    "# Q1\n",
    "import pandas as pd\n",
    "from sklearn.neighbors import KNeighborsRegressor\n",
    "import numpy as np\n",
    "\n",
    "data = {\n",
    "    'exp': [2, 3, 5, 1, 8, 4, 6, 7, 9, 2, 4, 5, 6, 3, 7],\n",
    "    'written': [5, 6, 7, 4, 8, 5, 6, 7, 9, 5, 6, 8, 7, 6, 8],\n",
    "    'interview': [6, 5, 8, 4, 7, 5, 7, 6, 8, 5, 7, 9, 8, 6, 7],\n",
    "    'salary': [30000, 35000, 45000, 25000, 55000, 40000, 50000, 48000, 60000, 32000, 42000, 47000, 52000, 38000, 58000]\n",
    "}\n",
    "\n",
    "df = pd.DataFrame(data)\n",
    "X = df[['exp', 'written', 'interview']]\n",
    "y = df['salary']\n",
    "\n",
    "model = KNeighborsRegressor(n_neighbors=3)\n",
    "model.fit(X, y)\n",
    "\n",
    "input1 = pd.DataFrame([[5, 8, 10]], columns=['exp', 'written', 'interview'])\n",
    "input2 = pd.DataFrame([[8, 7, 6]], columns=['exp', 'written', 'interview'])\n",
    "\n",
    "print(\"Prediction (5,8,10):\", model.predict(input1))\n",
    "print(\"Prediction (8,7,6):\", model.predict(input2))"
   ]
  },
  {
   "cell_type": "code",
   "execution_count": 2,
   "id": "19f4008a",
   "metadata": {},
   "outputs": [
    {
     "name": "stdout",
     "output_type": "stream",
     "text": [
      "Prediction for candidate (90, 5, 8, 10): 1\n",
      "Prediction for candidate (75, 8, 7, 6): 1\n"
     ]
    }
   ],
   "source": [
    "# Q2\n",
    "import pandas as pd\n",
    "import numpy as np\n",
    "from sklearn.naive_bayes import GaussianNB\n",
    "from sklearn.model_selection import train_test_split\n",
    "from sklearn.metrics import accuracy_score, precision_score, recall_score, f1_score\n",
    "\n",
    "# Dataset creation\n",
    "data = {\n",
    "    'graduation_percentage': [85, 78, 92, 65, 70, 88, 95, 80, 75, 82, 90, 72, 68, 79, 85, 77, 83, 91, 74, 89, 76, 84, 93, 67, 81],\n",
    "    'experience': [2, 1, 4, 0, 3, 5, 6, 2, 1, 3, 4, 0, 1, 2, 5, 3, 4, 6, 2, 5, 1, 3, 7, 0, 2],\n",
    "    'written_score': [6, 5, 8, 4, 5, 7, 9, 6, 5, 7, 8, 4, 5, 6, 7, 5, 6, 8, 5, 7, 4, 6, 9, 3, 5],\n",
    "    'interview_score': [7, 6, 9, 5, 6, 8, 9, 7, 6, 8, 9, 5, 6, 7, 8, 6, 7, 9, 6, 8, 5, 7, 9, 4, 6],\n",
    "    'selection': [1, 0, 1, 0, 0, 1, 1, 1, 0, 1, 1, 0, 0, 1, 1, 0, 1, 1, 0, 1, 0, 1, 1, 0, 1]\n",
    "}\n",
    "\n",
    "# Convert to DataFrame\n",
    "df = pd.DataFrame(data)\n",
    "df.to_csv('selection_data.csv', index=False)\n",
    "\n",
    "# Feature and target separation\n",
    "X = df[['graduation_percentage', 'experience', 'written_score', 'interview_score']]\n",
    "y = df['selection']\n",
    "\n",
    "# Split into training and testing sets\n",
    "X_train, X_test, y_train, y_test = train_test_split(X, y, test_size=0.2, random_state=42)\n",
    "\n",
    "# Train Gaussian Naive Bayes model\n",
    "nb_model = GaussianNB()\n",
    "nb_model.fit(X_train, y_train)\n",
    "\n",
    "# Predict on custom input cases\n",
    "sample_1 = pd.DataFrame([[90, 5, 8, 10]], columns=['graduation_percentage', 'experience', 'written_score', 'interview_score'])\n",
    "sample_2 = pd.DataFrame([[75, 8, 7, 6]], columns=['graduation_percentage', 'experience', 'written_score', 'interview_score'])\n",
    "\n",
    "prediction_1 = nb_model.predict(sample_1)\n",
    "prediction_2 = nb_model.predict(sample_2)\n",
    "\n",
    "# Predict on test data\n",
    "y_pred = nb_model.predict(X_test)\n",
    "\n",
    "# Evaluate model performance\n",
    "metrics = {\n",
    "    'accuracy': accuracy_score(y_test, y_pred),\n",
    "    'precision': precision_score(y_test, y_pred),\n",
    "    'recall': recall_score(y_test, y_pred),\n",
    "    'f1_score': f1_score(y_test, y_pred)\n",
    "}\n",
    "\n",
    "# Save metrics to CSV\n",
    "metrics_df = pd.DataFrame([metrics])\n",
    "metrics_df.to_csv('bayesian_metrics.csv', index=False)\n",
    "\n",
    "# Output predictions\n",
    "print(\"Prediction for candidate (90, 5, 8, 10):\", prediction_1[0])\n",
    "print(\"Prediction for candidate (75, 8, 7, 6):\", prediction_2[0])"
   ]
  },
  {
   "cell_type": "code",
   "execution_count": 3,
   "id": "42904c00",
   "metadata": {},
   "outputs": [
    {
     "name": "stdout",
     "output_type": "stream",
     "text": [
      "\n",
      "Test size: 0.2\n",
      "              precision    recall  f1-score   support\n",
      "\n",
      "           0       1.00      1.00      1.00        10\n",
      "           1       1.00      1.00      1.00         9\n",
      "           2       1.00      1.00      1.00        11\n",
      "\n",
      "    accuracy                           1.00        30\n",
      "   macro avg       1.00      1.00      1.00        30\n",
      "weighted avg       1.00      1.00      1.00        30\n",
      "\n",
      "\n",
      "Test size: 0.3\n",
      "              precision    recall  f1-score   support\n",
      "\n",
      "           0       1.00      1.00      1.00        19\n",
      "           1       1.00      0.92      0.96        13\n",
      "           2       0.93      1.00      0.96        13\n",
      "\n",
      "    accuracy                           0.98        45\n",
      "   macro avg       0.98      0.97      0.97        45\n",
      "weighted avg       0.98      0.98      0.98        45\n",
      "\n",
      "\n",
      "Test size: 0.4\n",
      "              precision    recall  f1-score   support\n",
      "\n",
      "           0       1.00      1.00      1.00        23\n",
      "           1       0.95      1.00      0.97        19\n",
      "           2       1.00      0.94      0.97        18\n",
      "\n",
      "    accuracy                           0.98        60\n",
      "   macro avg       0.98      0.98      0.98        60\n",
      "weighted avg       0.98      0.98      0.98        60\n",
      "\n"
     ]
    }
   ],
   "source": [
    "# Q3\n",
    "from sklearn.datasets import load_iris\n",
    "from sklearn.tree import DecisionTreeClassifier\n",
    "from sklearn.model_selection import train_test_split\n",
    "from sklearn.metrics import classification_report\n",
    "\n",
    "# Load the iris dataset\n",
    "iris = load_iris()\n",
    "features = iris.data\n",
    "labels = iris.target\n",
    "\n",
    "# Evaluate performance with different test sizes\n",
    "for split_ratio in [0.2, 0.3, 0.4]:\n",
    "    X_train, X_test, y_train, y_test = train_test_split(features, labels, test_size=split_ratio, random_state=42)\n",
    "    \n",
    "    dt_classifier = DecisionTreeClassifier(criterion='entropy', max_depth=3, min_samples_split=2)\n",
    "    dt_classifier.fit(X_train, y_train)\n",
    "    \n",
    "    predictions = dt_classifier.predict(X_test)\n",
    "    print(f\"\\nTest size: {split_ratio}\")\n",
    "    print(classification_report(y_test, predictions))"
   ]
  }
 ],
 "metadata": {
  "kernelspec": {
   "display_name": "Python 3",
   "language": "python",
   "name": "python3"
  },
  "language_info": {
   "codemirror_mode": {
    "name": "ipython",
    "version": 3
   },
   "file_extension": ".py",
   "mimetype": "text/x-python",
   "name": "python",
   "nbconvert_exporter": "python",
   "pygments_lexer": "ipython3",
   "version": "3.10.15"
  }
 },
 "nbformat": 4,
 "nbformat_minor": 5
}
