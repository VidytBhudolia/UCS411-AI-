{
 "cells": [
  {
   "cell_type": "code",
   "execution_count": 1,
   "id": "0a7fcc9b",
   "metadata": {},
   "outputs": [
    {
     "name": "stdout",
     "output_type": "stream",
     "text": [
      "Maths: Highest=92, Lowest=55, Average=76.50\n",
      "Science: Highest=95, Lowest=55, Average=75.00\n",
      "English: Highest=95, Lowest=58, Average=76.20\n",
      "IT: Highest=93, Lowest=62, Average=79.00\n",
      "Overall: Highest=371, Lowest=235, Average=306.70\n"
     ]
    }
   ],
   "source": [
    "# 1\n",
    "students = [\n",
    "    {\"Maths\": 88, \"Science\": 76, \"English\": 90, \"IT\": 85},\n",
    "    {\"Maths\": 70, \"Science\": 65, \"English\": 60, \"IT\": 75},\n",
    "    {\"Maths\": 80, \"Science\": 85, \"English\": 88, \"IT\": 92},\n",
    "    {\"Maths\": 90, \"Science\": 95, \"English\": 85, \"IT\": 89},\n",
    "    {\"Maths\": 60, \"Science\": 55, \"English\": 70, \"IT\": 65},\n",
    "    {\"Maths\": 85, \"Science\": 80, \"English\": 75, \"IT\": 78},\n",
    "    {\"Maths\": 92, \"Science\": 91, \"English\": 95, \"IT\": 93},\n",
    "    {\"Maths\": 55, \"Science\": 60, \"English\": 58, \"IT\": 62},\n",
    "    {\"Maths\": 78, \"Science\": 74, \"English\": 77, \"IT\": 81},\n",
    "    {\"Maths\": 67, \"Science\": 69, \"English\": 64, \"IT\": 70}\n",
    "]\n",
    "\n",
    "tests = [\"Maths\", \"Science\", \"English\", \"IT\"]\n",
    "\n",
    "for test in tests:\n",
    "    marks = [student[test] for student in students]\n",
    "    print(f\"{test}: Highest={max(marks)}, Lowest={min(marks)}, Average={sum(marks)/len(marks):.2f}\")\n",
    "\n",
    "overall_marks = [sum(student.values()) for student in students]\n",
    "print(f\"Overall: Highest={max(overall_marks)}, Lowest={min(overall_marks)}, Average={sum(overall_marks)/len(overall_marks):.2f}\")\n"
   ]
  },
  {
   "cell_type": "code",
   "execution_count": 3,
   "id": "604da75b",
   "metadata": {},
   "outputs": [
    {
     "name": "stdout",
     "output_type": "stream",
     "text": [
      "Invalid input. Please enter a numeric value.\n",
      "Invalid input. Please enter a numeric value.\n",
      "Gross Salary: 24.0\n"
     ]
    }
   ],
   "source": [
    "# 2\n",
    "basic_salary = float(input(\"Enter basic salary: \"))\n",
    "\n",
    "if basic_salary <= 10000:\n",
    "    hra = 0.20 * basic_salary\n",
    "    da = 0.80 * basic_salary\n",
    "elif basic_salary <= 20000:\n",
    "    hra = 0.25 * basic_salary\n",
    "    da = 0.90 * basic_salary\n",
    "else:\n",
    "    hra = 0.30 * basic_salary\n",
    "    da = 0.95 * basic_salary\n",
    "\n",
    "gross_salary = basic_salary + hra + da\n",
    "print(f\"Gross Salary: {gross_salary}\")\n"
   ]
  },
  {
   "cell_type": "code",
   "execution_count": 4,
   "id": "8827923e",
   "metadata": {},
   "outputs": [
    {
     "name": "stdout",
     "output_type": "stream",
     "text": [
      "Invalid Password\n"
     ]
    }
   ],
   "source": [
    "# 3\n",
    "import re\n",
    "\n",
    "password = input(\"Enter your password: \")\n",
    "\n",
    "if (6 <= len(password) <= 16 and\n",
    "    re.search(r\"[a-z]\", password) and\n",
    "    re.search(r\"[A-Z]\", password) and\n",
    "    re.search(r\"\\d\", password) and\n",
    "    re.search(r\"[$#@]\", password)):\n",
    "    print(\"Valid Password\")\n",
    "else:\n",
    "    print(\"Invalid Password\")\n"
   ]
  },
  {
   "cell_type": "code",
   "execution_count": 5,
   "id": "2ffc4dd1",
   "metadata": {},
   "outputs": [
    {
     "name": "stdout",
     "output_type": "stream",
     "text": [
      "After adding 200 and 300: [10, 20, 30, 40, 50, 60, 70, 80, 200, 300]\n",
      "After removing 10 and 30: [20, 40, 50, 60, 70, 80, 200, 300]\n",
      "Sorted in ascending order: [20, 40, 50, 60, 70, 80, 200, 300]\n",
      "Sorted in descending order: [300, 200, 80, 70, 60, 50, 40, 20]\n"
     ]
    }
   ],
   "source": [
    "# 4\n",
    "L = [10, 20, 30, 40, 50, 60, 70, 80]\n",
    "\n",
    "# (i)\n",
    "L.extend([200, 300])\n",
    "print(\"After adding 200 and 300:\", L)\n",
    "\n",
    "# (ii)\n",
    "L.remove(10)\n",
    "L.remove(30)\n",
    "print(\"After removing 10 and 30:\", L)\n",
    "\n",
    "# (iii)\n",
    "L.sort()\n",
    "print(\"Sorted in ascending order:\", L)\n",
    "\n",
    "# (iv)\n",
    "L.sort(reverse=True)\n",
    "print(\"Sorted in descending order:\", L)\n"
   ]
  },
  {
   "cell_type": "code",
   "execution_count": 6,
   "id": "d1023888",
   "metadata": {},
   "outputs": [
    {
     "name": "stdout",
     "output_type": "stream",
     "text": [
      "6 is present in D: True\n",
      "Number of elements in D: 5\n",
      "All values in D: One Three Four Five Six\n"
     ]
    }
   ],
   "source": [
    "# 5\n",
    "D = {1: \"One\", 2: \"Two\", 3: \"Three\", 4: \"Four\", 5: \"Five\"}\n",
    "\n",
    "# (i)\n",
    "D[6] = \"Six\"\n",
    "\n",
    "# (ii)\n",
    "D.pop(2)\n",
    "\n",
    "# (iii)\n",
    "print(\"6 is present in D:\", 6 in D)\n",
    "\n",
    "# (iv)\n",
    "print(\"Number of elements in D:\", len(D))\n",
    "\n",
    "# (v)\n",
    "print(\"All values in D:\", \" \".join(D.values()))\n"
   ]
  },
  {
   "cell_type": "code",
   "execution_count": 7,
   "id": "e6fcf115",
   "metadata": {},
   "outputs": [
    {
     "name": "stdout",
     "output_type": "stream",
     "text": [
      "Odd numbers count: 47\n",
      "Even numbers count: 53\n",
      "Prime numbers count: 19\n"
     ]
    }
   ],
   "source": [
    "# 6\n",
    "import random\n",
    "\n",
    "nums = [random.randint(100, 900) for _ in range(100)]\n",
    "\n",
    "odd = [n for n in nums if n % 2 != 0]\n",
    "even = [n for n in nums if n % 2 == 0]\n",
    "\n",
    "def is_prime(n):\n",
    "    if n < 2:\n",
    "        return False\n",
    "    for i in range(2, int(n**0.5)+1):\n",
    "        if n % i == 0:\n",
    "            return False\n",
    "    return True\n",
    "\n",
    "prime = [n for n in nums if is_prime(n)]\n",
    "\n",
    "print(\"Odd numbers count:\", len(odd))\n",
    "print(\"Even numbers count:\", len(even))\n",
    "print(\"Prime numbers count:\", len(prime))\n"
   ]
  },
  {
   "cell_type": "code",
   "execution_count": 8,
   "id": "8c7bdecd",
   "metadata": {},
   "outputs": [
    {
     "name": "stdout",
     "output_type": "stream",
     "text": [
      "Compound Interest: 1025.0\n"
     ]
    }
   ],
   "source": [
    "# 7\n",
    "def compound_interest(principal, rate, time):\n",
    "    return principal * (1 + rate / 100) ** time - principal\n",
    "\n",
    "# Example call\n",
    "print(\"Compound Interest:\", compound_interest(10000, 5, 2))\n"
   ]
  },
  {
   "cell_type": "code",
   "execution_count": 9,
   "id": "d476c806",
   "metadata": {},
   "outputs": [
    {
     "name": "stdout",
     "output_type": "stream",
     "text": [
      "Tasty Treats\n",
      "Indian\n",
      "Restaurant Name: Tasty Treats\n",
      "Cuisine Type: Indian\n",
      "Tasty Treats is now open!\n"
     ]
    }
   ],
   "source": [
    "# 8 A\n",
    "class Restaurant:\n",
    "    def __init__(self, restaurant_name, cuisine_type):\n",
    "        self.restaurant_name = restaurant_name\n",
    "        self.cuisine_type = cuisine_type\n",
    "\n",
    "    def describe_restaurant(self):\n",
    "        print(f\"Restaurant Name: {self.restaurant_name}\")\n",
    "        print(f\"Cuisine Type: {self.cuisine_type}\")\n",
    "\n",
    "    def open_restaurant(self):\n",
    "        print(f\"{self.restaurant_name} is now open!\")\n",
    "\n",
    "restaurant = Restaurant(\"Tasty Treats\", \"Indian\")\n",
    "print(restaurant.restaurant_name)\n",
    "print(restaurant.cuisine_type)\n",
    "restaurant.describe_restaurant()\n",
    "restaurant.open_restaurant()\n"
   ]
  },
  {
   "cell_type": "code",
   "execution_count": 10,
   "id": "81f7fd3c",
   "metadata": {},
   "outputs": [
    {
     "name": "stdout",
     "output_type": "stream",
     "text": [
      "User: John Doe, Age: 30, Email: john@example.com, Location: New York\n",
      "Hello John, welcome back!\n",
      "User: Jane Smith, Age: 25, Email: jane@example.com, Location: London\n",
      "Hello Jane, welcome back!\n"
     ]
    }
   ],
   "source": [
    "# 8 B\n",
    "class User:\n",
    "    def __init__(self, first_name, last_name, age, email, location):\n",
    "        self.first_name = first_name\n",
    "        self.last_name = last_name\n",
    "        self.age = age\n",
    "        self.email = email\n",
    "        self.location = location\n",
    "\n",
    "    def describe_user(self):\n",
    "        print(f\"User: {self.first_name} {self.last_name}, Age: {self.age}, Email: {self.email}, Location: {self.location}\")\n",
    "\n",
    "    def greet_user(self):\n",
    "        print(f\"Hello {self.first_name}, welcome back!\")\n",
    "\n",
    "user1 = User(\"John\", \"Doe\", 30, \"john@example.com\", \"New York\")\n",
    "user2 = User(\"Jane\", \"Smith\", 25, \"jane@example.com\", \"London\")\n",
    "\n",
    "user1.describe_user()\n",
    "user1.greet_user()\n",
    "user2.describe_user()\n",
    "user2.greet_user()\n"
   ]
  }
 ],
 "metadata": {
  "kernelspec": {
   "display_name": "base",
   "language": "python",
   "name": "python3"
  },
  "language_info": {
   "codemirror_mode": {
    "name": "ipython",
    "version": 3
   },
   "file_extension": ".py",
   "mimetype": "text/x-python",
   "name": "python",
   "nbconvert_exporter": "python",
   "pygments_lexer": "ipython3",
   "version": "3.12.4"
  }
 },
 "nbformat": 4,
 "nbformat_minor": 5
}
